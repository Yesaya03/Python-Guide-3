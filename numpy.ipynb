{
 "cells": [
  {
   "cell_type": "code",
   "execution_count": 1,
   "id": "98212cdb",
   "metadata": {},
   "outputs": [],
   "source": [
    "#importing numpy to document\n",
    "import numpy as np"
   ]
  },
  {
   "cell_type": "code",
   "execution_count": 2,
   "id": "2a299098",
   "metadata": {},
   "outputs": [
    {
     "name": "stdout",
     "output_type": "stream",
     "text": [
      "1.21.5\n"
     ]
    }
   ],
   "source": [
    "#checking numpy version\n",
    "print(np.__version__)"
   ]
  },
  {
   "cell_type": "code",
   "execution_count": 3,
   "id": "4079292c",
   "metadata": {},
   "outputs": [
    {
     "name": "stdout",
     "output_type": "stream",
     "text": [
      "[1 2 3 4 5]\n"
     ]
    }
   ],
   "source": [
    "#creating numpy array from list\n",
    "myArr = np.array([1,2,3,4,5])\n",
    "print(myArr)"
   ]
  },
  {
   "cell_type": "code",
   "execution_count": 4,
   "id": "ac650cd6",
   "metadata": {},
   "outputs": [
    {
     "name": "stdout",
     "output_type": "stream",
     "text": [
      "<class 'numpy.ndarray'>\n"
     ]
    }
   ],
   "source": [
    "#checking data types of numpy array\n",
    "print(type(myArr))"
   ]
  },
  {
   "cell_type": "code",
   "execution_count": 5,
   "id": "4e28d96e",
   "metadata": {},
   "outputs": [
    {
     "name": "stdout",
     "output_type": "stream",
     "text": [
      "[1 2 3 4 5]\n"
     ]
    }
   ],
   "source": [
    "#creating numpy from tuple\n",
    "myArr = np.array((1,2,3,4,5))\n",
    "print(myArr)"
   ]
  },
  {
   "cell_type": "markdown",
   "id": "81fdec94",
   "metadata": {},
   "source": [
    "# Dimension on Numpy Array"
   ]
  },
  {
   "cell_type": "markdown",
   "id": "250b7a2b",
   "metadata": {},
   "source": [
    "A dimension in arrays is one level of array depth (nested array)"
   ]
  },
  {
   "cell_type": "code",
   "execution_count": 6,
   "id": "2c342300",
   "metadata": {},
   "outputs": [
    {
     "name": "stdout",
     "output_type": "stream",
     "text": [
      "10\n"
     ]
    }
   ],
   "source": [
    "# 0-D Arrays\n",
    "import numpy as mp\n",
    "myArr = np.array(10)\n",
    "print(myArr)"
   ]
  },
  {
   "cell_type": "code",
   "execution_count": 7,
   "id": "757a25c0",
   "metadata": {},
   "outputs": [
    {
     "name": "stdout",
     "output_type": "stream",
     "text": [
      "[1 2 3 4 5]\n"
     ]
    }
   ],
   "source": [
    "#Creating 1-D Arrays\n",
    "myArr = np.array([1,2,3,4,5])\n",
    "print(myArr)"
   ]
  },
  {
   "cell_type": "code",
   "execution_count": 9,
   "id": "b84d1578",
   "metadata": {},
   "outputs": [
    {
     "name": "stdout",
     "output_type": "stream",
     "text": [
      "[[ 1  2  3  4  5]\n",
      " [ 6  7  8  9 10]]\n"
     ]
    }
   ],
   "source": [
    "#Creating 2-D Arrays\n",
    "myArr = np.array([[1,2,3,4,5],[6,7,8,9,10]])\n",
    "print(myArr)"
   ]
  },
  {
   "cell_type": "code",
   "execution_count": 10,
   "id": "4cebba34",
   "metadata": {},
   "outputs": [
    {
     "name": "stdout",
     "output_type": "stream",
     "text": [
      "[[[ 1  2  3  4  5]\n",
      "  [ 6  7  8  9 10]]\n",
      "\n",
      " [[ 1  2  3  4  5]\n",
      "  [ 6  7  8  9 10]]]\n"
     ]
    }
   ],
   "source": [
    "#Creating 3-D Arrays\n",
    "myArr = np.array([[[1,2,3,4,5],[6,7,8,9,10]],[[1,2,3,4,5],[6,7,8,9,10]]])\n",
    "print(myArr)"
   ]
  },
  {
   "cell_type": "code",
   "execution_count": 11,
   "id": "59ffd738",
   "metadata": {},
   "outputs": [
    {
     "name": "stdout",
     "output_type": "stream",
     "text": [
      "3\n"
     ]
    }
   ],
   "source": [
    "#Check how many dimensions the array\n",
    "print(myArr.ndim)"
   ]
  },
  {
   "cell_type": "code",
   "execution_count": 13,
   "id": "68700e51",
   "metadata": {},
   "outputs": [
    {
     "name": "stdout",
     "output_type": "stream",
     "text": [
      "[[[[[1 2 3 4]]]]]\n"
     ]
    }
   ],
   "source": [
    "#Create an arrays with 5 dimensions and verify that it has 5 dimension\n",
    "myArr = np.array([1,2,3,4], ndmin=5)\n",
    "print(myArr)"
   ]
  },
  {
   "cell_type": "code",
   "execution_count": 14,
   "id": "fc379a5e",
   "metadata": {},
   "outputs": [
    {
     "name": "stdout",
     "output_type": "stream",
     "text": [
      "1\n"
     ]
    }
   ],
   "source": [
    "#get the first element from the following array\n",
    "myArr = np.array([1,2,3,4,5])\n",
    "print(myArr[0])"
   ]
  },
  {
   "cell_type": "code",
   "execution_count": 15,
   "id": "8034fd88",
   "metadata": {},
   "outputs": [
    {
     "name": "stdout",
     "output_type": "stream",
     "text": [
      "7\n"
     ]
    }
   ],
   "source": [
    "#get the third and fourth element from the following array\n",
    "print(myArr[2] + myArr[3])"
   ]
  },
  {
   "cell_type": "code",
   "execution_count": 16,
   "id": "69cb48b9",
   "metadata": {},
   "outputs": [
    {
     "name": "stdout",
     "output_type": "stream",
     "text": [
      "2\n"
     ]
    }
   ],
   "source": [
    "#access array on the first row second column\n",
    "myArr = np.array([[1,2,3,4,5],[6,7,8,9,10]])\n",
    "print(myArr[0,1])"
   ]
  },
  {
   "cell_type": "code",
   "execution_count": 17,
   "id": "ea4e7f16",
   "metadata": {},
   "outputs": [
    {
     "name": "stdout",
     "output_type": "stream",
     "text": [
      "6\n"
     ]
    }
   ],
   "source": [
    "#Access the third element of the second array of the first array\n",
    "myArr = np.array([[[1,2,3],[4,5,6]],[[7,8,9],[10,11,12]]])\n",
    "print(myArr[0,1,2])"
   ]
  },
  {
   "cell_type": "code",
   "execution_count": 18,
   "id": "0110f1bc",
   "metadata": {},
   "outputs": [
    {
     "name": "stdout",
     "output_type": "stream",
     "text": [
      "Last Element from 2nd dim : 10\n"
     ]
    }
   ],
   "source": [
    "#Print the last elementfrom the 2nd dimension\n",
    "myArr = np.array([[1,2,3,4,5],[6,7,8,9,10]])\n",
    "print(\"Last Element from 2nd dim :\", myArr[1,-1])"
   ]
  },
  {
   "cell_type": "code",
   "execution_count": 19,
   "id": "51cc3307",
   "metadata": {},
   "outputs": [
    {
     "name": "stdout",
     "output_type": "stream",
     "text": [
      "[2 3 4 5]\n"
     ]
    }
   ],
   "source": [
    "#Slice element from index 1 to index 5 from the following array\n",
    "myArr = np.array([1,2,3,4,5,6,7,8])\n",
    "print(myArr[1:5])"
   ]
  },
  {
   "cell_type": "code",
   "execution_count": 20,
   "id": "9d21216d",
   "metadata": {},
   "outputs": [
    {
     "name": "stdout",
     "output_type": "stream",
     "text": [
      "[5 6 7 8]\n"
     ]
    }
   ],
   "source": [
    "#Slice element from index 4 to the end of array\n",
    "print(myArr[4:])"
   ]
  },
  {
   "cell_type": "code",
   "execution_count": 21,
   "id": "d840def4",
   "metadata": {},
   "outputs": [
    {
     "name": "stdout",
     "output_type": "stream",
     "text": [
      "[1 2 3 4]\n"
     ]
    }
   ],
   "source": [
    "#slice element from the beginning to index 4(not include)\n",
    "print(myArr[:4])"
   ]
  },
  {
   "cell_type": "code",
   "execution_count": 22,
   "id": "0276a541",
   "metadata": {},
   "outputs": [
    {
     "name": "stdout",
     "output_type": "stream",
     "text": [
      "[6 7]\n"
     ]
    }
   ],
   "source": [
    "#Slice from the index 3 from to the end to index 1 from to the end\n",
    "print(myArr[-3:-1])"
   ]
  },
  {
   "cell_type": "code",
   "execution_count": 23,
   "id": "7e685944",
   "metadata": {},
   "outputs": [
    {
     "name": "stdout",
     "output_type": "stream",
     "text": [
      "[7 8 9]\n"
     ]
    }
   ],
   "source": [
    "myArr = np.array([[1,2,3,4,5],[6,7,8,9,10]])\n",
    "print(myArr[1, 1:4])"
   ]
  },
  {
   "cell_type": "code",
   "execution_count": 24,
   "id": "6ad8b7a5",
   "metadata": {},
   "outputs": [
    {
     "name": "stdout",
     "output_type": "stream",
     "text": [
      "[3 8]\n"
     ]
    }
   ],
   "source": [
    "#From both element, return index 2\n",
    "print(myArr[0:2, 2])"
   ]
  }
 ],
 "metadata": {
  "kernelspec": {
   "display_name": "Python 3 (ipykernel)",
   "language": "python",
   "name": "python3"
  },
  "language_info": {
   "codemirror_mode": {
    "name": "ipython",
    "version": 3
   },
   "file_extension": ".py",
   "mimetype": "text/x-python",
   "name": "python",
   "nbconvert_exporter": "python",
   "pygments_lexer": "ipython3",
   "version": "3.9.7"
  }
 },
 "nbformat": 4,
 "nbformat_minor": 5
}
