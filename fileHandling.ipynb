{
 "cells": [
  {
   "cell_type": "markdown",
   "metadata": {},
   "source": [
    "# File Handing\n",
    "Python can be used to handle files i.e., to read and write files, and other activities that can be performed on files. there are 4 type of file handling : \n",
    "* Open\n",
    "* Read\n",
    "* Write\n",
    "* Close"
   ]
  },
  {
   "cell_type": "markdown",
   "metadata": {},
   "source": [
    "### Open()"
   ]
  },
  {
   "cell_type": "code",
   "execution_count": 14,
   "metadata": {},
   "outputs": [],
   "source": [
    "# to open file you neet to fill 2 parameter they are file name and mode\n",
    "# in open() method, had 6 mode\n",
    "\n",
    "file_r = open('log.txt', 'r') # 'r' is mode read, file only can be read\n",
    "file_w = open('log.txt', 'w') # 'w' is mode write, file can be write\n",
    "file_a = open('log.txt', 'a') # 'a' is mode append, file can be append\n",
    "file_r_plus = open('log.txt', 'r+') # 'r+' is mode read & write, file can be read and write\n",
    "file_w_plus = open('log.txt', 'w+') # 'w+' is mode write & read, file can be write and read\n",
    "file_a_plus = open('log.txt', 'a+') # 'a+' is mode append & read, file can be append and read\n"
   ]
  },
  {
   "cell_type": "code",
   "execution_count": 15,
   "metadata": {},
   "outputs": [],
   "source": [
    "# close file\n",
    "file_r.close()\n",
    "file_w.close()\n",
    "file_a.close()\n",
    "file_r_plus.close()\n",
    "file_w_plus.close()\n",
    "file_a_plus.close()"
   ]
  },
  {
   "cell_type": "markdown",
   "metadata": {},
   "source": [
    "### Read()"
   ]
  },
  {
   "cell_type": "code",
   "execution_count": 33,
   "metadata": {},
   "outputs": [],
   "source": [
    "# open file with read mode\n",
    "file = open('log.txt', 'r')"
   ]
  },
  {
   "cell_type": "code",
   "execution_count": 27,
   "metadata": {},
   "outputs": [],
   "source": [
    "# make variable that read a opened file before\n",
    "fileContent = file.read()"
   ]
  },
  {
   "cell_type": "code",
   "execution_count": 28,
   "metadata": {},
   "outputs": [
    {
     "name": "stdout",
     "output_type": "stream",
     "text": [
      "First Line\n",
      "Second Line\n",
      "Third Line\n",
      "\n"
     ]
    }
   ],
   "source": [
    "# print to see all data in log.txt file\n",
    "print(fileContent)"
   ]
  },
  {
   "cell_type": "code",
   "execution_count": 34,
   "metadata": {},
   "outputs": [],
   "source": [
    "# if u want to see data just only first line u can use readline()\n",
    "fileContent2 = file.readline()"
   ]
  },
  {
   "cell_type": "code",
   "execution_count": 35,
   "metadata": {},
   "outputs": [
    {
     "name": "stdout",
     "output_type": "stream",
     "text": [
      "First Line\n",
      "\n"
     ]
    }
   ],
   "source": [
    "print(fileContent2)"
   ]
  },
  {
   "cell_type": "code",
   "execution_count": 36,
   "metadata": {},
   "outputs": [],
   "source": [
    "# dont forget to close the file\n",
    "file.close()"
   ]
  },
  {
   "cell_type": "markdown",
   "metadata": {},
   "source": [
    "### Write()"
   ]
  },
  {
   "cell_type": "code",
   "execution_count": 38,
   "metadata": {},
   "outputs": [],
   "source": [
    "# open the file with write mode\n",
    "file = open('log.txt', 'w')"
   ]
  },
  {
   "cell_type": "code",
   "execution_count": 39,
   "metadata": {},
   "outputs": [],
   "source": [
    "# fill the file with new data \"New Line\" at three row\n",
    "for i in range(3):\n",
    "    file.write('New line\\n')"
   ]
  },
  {
   "cell_type": "code",
   "execution_count": 41,
   "metadata": {},
   "outputs": [],
   "source": [
    "# close file\n",
    "file.close()\n",
    "\n",
    "# inisialization new file to see what we do with write\n",
    "file = open('log.txt', 'r')"
   ]
  },
  {
   "cell_type": "code",
   "execution_count": 42,
   "metadata": {},
   "outputs": [],
   "source": [
    "# read the file\n",
    "fileContent = file.read()"
   ]
  },
  {
   "cell_type": "code",
   "execution_count": 43,
   "metadata": {},
   "outputs": [
    {
     "name": "stdout",
     "output_type": "stream",
     "text": [
      "New line\n",
      "New line\n",
      "New line\n",
      "\n"
     ]
    }
   ],
   "source": [
    "# if we see data at log.txt that changed with new data value\n",
    "print(fileContent)"
   ]
  },
  {
   "cell_type": "markdown",
   "metadata": {},
   "source": [
    "### Close()"
   ]
  },
  {
   "cell_type": "code",
   "execution_count": 6,
   "metadata": {},
   "outputs": [],
   "source": [
    "# open a file with mode read first\n",
    "file = open('log.txt', 'r')"
   ]
  },
  {
   "cell_type": "code",
   "execution_count": 7,
   "metadata": {},
   "outputs": [
    {
     "name": "stdout",
     "output_type": "stream",
     "text": [
      "1 is One\n",
      "2 is Two\n",
      "3 is Three\n",
      "\n"
     ]
    }
   ],
   "source": [
    "# print method will read and return all data in log.txt file\n",
    "fileContent = file.read()\n",
    "print(fileContent)"
   ]
  },
  {
   "cell_type": "code",
   "execution_count": 9,
   "metadata": {},
   "outputs": [],
   "source": [
    "# close the file\n",
    "file.close()"
   ]
  },
  {
   "cell_type": "code",
   "execution_count": 11,
   "metadata": {},
   "outputs": [
    {
     "ename": "ValueError",
     "evalue": "I/O operation on closed file.",
     "output_type": "error",
     "traceback": [
      "\u001b[1;31m---------------------------------------------------------------------------\u001b[0m",
      "\u001b[1;31mValueError\u001b[0m                                Traceback (most recent call last)",
      "Cell \u001b[1;32mIn [11], line 3\u001b[0m\n\u001b[0;32m      1\u001b[0m \u001b[38;5;66;03m# same code, but it will return error because before we inisialization the fileContent variable\u001b[39;00m\n\u001b[0;32m      2\u001b[0m \u001b[38;5;66;03m# we closed file first, so if a file is closed, that cant be read or write again while the code is true\u001b[39;00m\n\u001b[1;32m----> 3\u001b[0m fileContent \u001b[38;5;241m=\u001b[39m \u001b[43mfile\u001b[49m\u001b[38;5;241;43m.\u001b[39;49m\u001b[43mread\u001b[49m\u001b[43m(\u001b[49m\u001b[43m)\u001b[49m\n\u001b[0;32m      4\u001b[0m \u001b[38;5;28mprint\u001b[39m(fileContent)\n",
      "\u001b[1;31mValueError\u001b[0m: I/O operation on closed file."
     ]
    }
   ],
   "source": [
    "# same code, but it will return error because before we inisialization the fileContent variable\n",
    "# we closed file first, so if a file is closed, that cant be read or write again while the code is true\n",
    "fileContent = file.read()\n",
    "print(fileContent)"
   ]
  }
 ],
 "metadata": {
  "kernelspec": {
   "display_name": "Python 3.10.2 64-bit",
   "language": "python",
   "name": "python3"
  },
  "language_info": {
   "codemirror_mode": {
    "name": "ipython",
    "version": 3
   },
   "file_extension": ".py",
   "mimetype": "text/x-python",
   "name": "python",
   "nbconvert_exporter": "python",
   "pygments_lexer": "ipython3",
   "version": "3.10.2"
  },
  "orig_nbformat": 4,
  "vscode": {
   "interpreter": {
    "hash": "26de051ba29f2982a8de78e945f0abaf191376122a1563185a90213a26c5da77"
   }
  }
 },
 "nbformat": 4,
 "nbformat_minor": 2
}
